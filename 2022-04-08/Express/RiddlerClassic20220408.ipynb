{
 "cells": [
  {
   "cell_type": "markdown",
   "id": "bf2da7b9-5d20-4faf-ae73-ca28d1a7b86c",
   "metadata": {},
   "source": [
    "# Riddler Classic 2022-04-08\n",
    "\n",
    "https://fivethirtyeight.com/features/can-you-be-mediocre-enough-to-win/\n",
    "\n",
    "*This week’s Classic also comes from Ben Orlin, although it’s relatively mediocre compared to the Express.*\n",
    "\n",
    "*In the three-player Game of Mediocrity, you win by not winning too much.*\n",
    "\n",
    "*Each round, every player secretly picks a number from 0 to 10. The numbers are simultaneously revealed, and the median number wins that number of points. (If two or more players pick the same number, then the winner is randomly selected from among them.)*\n",
    "\n",
    "*Player A says 6, B says 3, and C says 2. B is the winner, having said the median, and earns 3 points.\n",
    "After five rounds, the winner is whoever has the median number of points. (Again, if two or more players have the same score, then the winner is randomly selected from among them.)*\n",
    "\n",
    "*With one round remaining, players A, B and C have 6, 8 and 10 points, respectively. Player A sighs and writes down “3,” but fails to do so in secret. Players B and C both see player A’s number (and both see that the other saw A’s number), and will take care to write their own numbers in secret. Assuming everyone plays to win, what numbers should B and C choose?*"
   ]
  },
  {
   "cell_type": "markdown",
   "id": "9fb6b509-4881-4b5a-9c61-affeee02cb8c",
   "metadata": {},
   "source": [
    "Let's start by calculating conditional probabilities of winning for all of each of the two relevant player's choices."
   ]
  },
  {
   "cell_type": "code",
   "execution_count": 2,
   "id": "2e592b12-0bea-44ad-a022-9fafeb7024da",
   "metadata": {},
   "outputs": [],
   "source": [
    "import statistics\n",
    "import pandas as pd"
   ]
  },
  {
   "cell_type": "code",
   "execution_count": 15,
   "id": "b21f4493-be0e-48fc-85b5-f5fc09e3dd91",
   "metadata": {},
   "outputs": [
    {
     "name": "stdout",
     "output_type": "stream",
     "text": [
      "P(B wins | B picks 0) = 0.32\n",
      "P(B wins | B picks 1) = 0.18\n",
      "P(B wins | B picks 2) = 0.09\n",
      "P(B wins | B picks 3) = 0.03\n",
      "P(B wins | B picks 4) = 0.09\n",
      "P(B wins | B picks 5) = 0.18\n",
      "P(B wins | B picks 6) = 0.27\n",
      "P(B wins | B picks 7) = 0.36\n",
      "P(B wins | B picks 8) = 0.45\n",
      "P(B wins | B picks 9) = 0.55\n",
      "P(B wins | B picks 10) = 0.64\n"
     ]
    }
   ],
   "source": [
    "#Conditional probabilities for player B's options\n",
    "\n",
    "a_score = 6\n",
    "b_score = 8\n",
    "c_score = 10\n",
    "\n",
    "for b in range(0, 11):\n",
    "    success = 0\n",
    "    for c in range(0, 11):\n",
    "        round_median = statistics.median([3, b, c])\n",
    "        round_winners = [3, b, c].count(round_median)\n",
    "        a_wins = (3 == round_median)\n",
    "        b_wins = (b == round_median)\n",
    "        c_wins = (c == round_median)\n",
    "        if a_wins:\n",
    "            score_median = statistics.median([a_score + round_median, b_score, c_score])\n",
    "            game_winners = [a_score + round_median, b_score, c_score].count(score_median)\n",
    "            success += int(b_score == score_median) / round_winners / game_winners\n",
    "        if b_wins:\n",
    "            score_median = statistics.median([a_score, b_score + round_median, c_score])\n",
    "            game_winners = [a_score, b_score + round_median, c_score].count(score_median)\n",
    "            success += int(b_score == score_median) / round_winners / game_winners\n",
    "        if c_wins:\n",
    "            score_median = statistics.median([a_score, b_score, c_score + round_median])\n",
    "            game_winners = [a_score, b_score, c_score + round_median].count(score_median)\n",
    "            success += int(b_score == score_median) / round_winners / game_winners\n",
    "            \n",
    "    print(\"P(B wins | B picks \" + str(b) + \") =\",  str(round(success/11, 2)))"
   ]
  },
  {
   "cell_type": "code",
   "execution_count": 16,
   "id": "183a5788-0675-46ff-b4d7-e0ce22411871",
   "metadata": {},
   "outputs": [
    {
     "name": "stdout",
     "output_type": "stream",
     "text": [
      "P(C wins | C picks 0) = 0.09\n",
      "P(C wins | C picks 1) = 0.09\n",
      "P(C wins | C picks 2) = 0.07\n",
      "P(C wins | C picks 3) = 0.03\n",
      "P(C wins | C picks 4) = 0.09\n",
      "P(C wins | C picks 5) = 0.18\n",
      "P(C wins | C picks 6) = 0.27\n",
      "P(C wins | C picks 7) = 0.36\n",
      "P(C wins | C picks 8) = 0.45\n",
      "P(C wins | C picks 9) = 0.55\n",
      "P(C wins | C picks 10) = 0.64\n"
     ]
    }
   ],
   "source": [
    "#Conditional probabilities for player C's options\n",
    "for c in range(0, 11):\n",
    "    success = 0\n",
    "    for b in range(0, 11):\n",
    "        round_median = statistics.median([3, b, c])\n",
    "        round_winners = [3, b, c].count(round_median)\n",
    "        a_wins = (3 == round_median)\n",
    "        b_wins = (b == round_median)\n",
    "        c_wins = (c == round_median)\n",
    "        if a_wins:\n",
    "            score_median = statistics.median([a_score + round_median, b_score, c_score])\n",
    "            game_winners = [a_score + round_median, b_score, c_score].count(score_median)\n",
    "            success += int(c_score == score_median) / round_winners / game_winners\n",
    "        if b_wins:\n",
    "            score_median = statistics.median([a_score, b_score + round_median, c_score])\n",
    "            game_winners = [a_score, b_score + round_median, c_score].count(score_median)\n",
    "            success += int(c_score == score_median) / round_winners / game_winners\n",
    "        if c_wins:\n",
    "            score_median = statistics.median([a_score, b_score, c_score + round_median])\n",
    "            game_winners = [a_score, b_score, c_score + round_median].count(score_median)\n",
    "            success += int(c_score == score_median) / round_winners / game_winners\n",
    "    print(\"P(C wins | C picks \" + str(c) + \") =\", str(round(success/11, 2)))\n"
   ]
  },
  {
   "cell_type": "markdown",
   "id": "2cbb3202-53a3-42b4-855e-1ddf795c1537",
   "metadata": {},
   "source": [
    "If players B and C knew that the other player hadn't seen player A's final number, they would each pick 10 to optimize their chances of winning. Instead, this becomes a game theory problem, and we need to find the strict Nash equilibrium. The strict Nash equilibrium will be the outcome which gives players B and C the highest chance of winning assuming the other player acts rationally. "
   ]
  },
  {
   "cell_type": "markdown",
   "id": "748e41bd-7a9c-41ca-b4ee-0754149ef4d4",
   "metadata": {},
   "source": [
    "What exactly would rational behavior look like? Well, for starters, players B and C can eliminate any chance of player A winning by ensuring the median is a number other than 3. This means players B and C will not pick option 3. Other than this, finding probabilities becomes complicated, but we know each player will want to consider all of the other player's possible moves. Let's continue by writing some more code."
   ]
  },
  {
   "cell_type": "code",
   "execution_count": 22,
   "id": "665b68d3-7682-4264-9bf6-1800069d661c",
   "metadata": {},
   "outputs": [
    {
     "name": "stdout",
     "output_type": "stream",
     "text": [
      " Player C's Pick  Player B's Optimal Pick  P(B Wins | B Picks Optimally)\n",
      "               0                        0                            1.0\n",
      "               1                        0                            1.0\n",
      "               2                        1                            1.0\n",
      "               3                       10                            0.5\n",
      "               4                       10                            1.0\n",
      "               5                       10                            1.0\n",
      "               6                       10                            1.0\n",
      "               7                       10                            1.0\n",
      "               8                       10                            1.0\n",
      "               9                       10                            1.0\n",
      "              10                       10                            0.5\n",
      "\n",
      " Player B's Pick  Player C's Optimal Pick  P(C Wins | C Picks Optimally)\n",
      "               0                       10                            0.0\n",
      "               1                       10                            0.0\n",
      "               2                        1                            0.5\n",
      "               3                       10                            0.5\n",
      "               4                       10                            1.0\n",
      "               5                       10                            1.0\n",
      "               6                       10                            1.0\n",
      "               7                       10                            1.0\n",
      "               8                       10                            1.0\n",
      "               9                       10                            1.0\n",
      "              10                       10                            0.5\n"
     ]
    }
   ],
   "source": [
    "df = pd.DataFrame()\n",
    "for c in range(0, 11):\n",
    "    P_max = (0, 0)\n",
    "    for b in range(0, 11):\n",
    "        P = 0\n",
    "        round_median = statistics.median([3, b, c])\n",
    "        round_winners = [3, b, c].count(round_median)\n",
    "        a_wins = (3 == round_median)\n",
    "        b_wins = (b == round_median)\n",
    "        c_wins = (c == round_median)\n",
    "        if a_wins:\n",
    "            score_median = statistics.median([a_score + round_median, b_score, c_score])\n",
    "            game_winners = [a_score + round_median, b_score, c_score].count(score_median)\n",
    "            P += int(b_score == score_median) / round_winners / game_winners\n",
    "        if b_wins:\n",
    "            score_median = statistics.median([a_score, b_score + round_median, c_score])\n",
    "            game_winners = [a_score, b_score + round_median, c_score].count(score_median)\n",
    "            P += int(b_score == score_median) / round_winners / game_winners\n",
    "        if c_wins:\n",
    "            score_median = statistics.median([a_score, b_score, c_score + round_median])\n",
    "            game_winners = [a_score, b_score, c_score + round_median].count(score_median)\n",
    "            P += int(b_score == score_median) / round_winners / game_winners\n",
    "        if P >= P_max[1]:\n",
    "            P_max = (b, P)\n",
    "    df = df.append(pd.DataFrame({\"Player C's Pick\": [c], \"Player B's Optimal Pick\": [P_max[0]], \"P(B Wins | B Picks Optimally)\": [round(P_max[1], 2)]}))\n",
    "\n",
    "print(df.to_string(index = False))\n",
    "\n",
    "print()\n",
    "\n",
    "df = pd.DataFrame()\n",
    "for b in range(0, 11):\n",
    "    P_max = (0, 0)\n",
    "    for c in range(0, 11):\n",
    "        P = 0\n",
    "        round_median = statistics.median([3, b, c])\n",
    "        round_winners = [3, b, c].count(round_median)\n",
    "        a_wins = (3 == round_median)\n",
    "        b_wins = (b == round_median)\n",
    "        c_wins = (c == round_median)\n",
    "        if a_wins:\n",
    "            score_median = statistics.median([a_score + round_median, b_score, c_score])\n",
    "            game_winners = [a_score + round_median, b_score, c_score].count(score_median)\n",
    "            P += int(c_score == score_median) / round_winners / game_winners\n",
    "        if b_wins:\n",
    "            score_median = statistics.median([a_score, b_score + round_median, c_score])\n",
    "            game_winners = [a_score, b_score + round_median, c_score].count(score_median)\n",
    "            P += int(c_score == score_median) / round_winners / game_winners\n",
    "        if c_wins:\n",
    "            score_median = statistics.median([a_score, b_score, c_score + round_median])\n",
    "            game_winners = [a_score, b_score, c_score + round_median].count(score_median)\n",
    "            P += int(c_score == score_median) / round_winners / game_winners\n",
    "        if P >= P_max[1]:\n",
    "            P_max = (c, P)\n",
    "    df = df.append(pd.DataFrame({\"Player B's Pick\": [b], \"Player C's Optimal Pick\": [P_max[0]], \"P(C Wins | C Picks Optimally)\": [round(P_max[1], 2)]}))\n",
    "\n",
    "print(df.to_string(index = False))"
   ]
  },
  {
   "cell_type": "markdown",
   "id": "238ec1e5-95e9-45ef-ad6e-9e93edc0af3b",
   "metadata": {},
   "source": [
    "As shown by the above data frames, the strict Nash equilibrium involves players B and C both writing down \"10\". Player B has optimal choices other than 10 if player C picks a number less than 3. Player C needs the median to be greater than 3 to win, however, so this would never happen. Thus, player B will pick 10. It follows that player C will pick 10 from the second data frame. Players B and C will each have a 50% chance of winning."
   ]
  }
 ],
 "metadata": {
  "kernelspec": {
   "display_name": "Python 3 (ipykernel)",
   "language": "python",
   "name": "python3"
  },
  "language_info": {
   "codemirror_mode": {
    "name": "ipython",
    "version": 3
   },
   "file_extension": ".py",
   "mimetype": "text/x-python",
   "name": "python",
   "nbconvert_exporter": "python",
   "pygments_lexer": "ipython3",
   "version": "3.9.6"
  }
 },
 "nbformat": 4,
 "nbformat_minor": 5
}
