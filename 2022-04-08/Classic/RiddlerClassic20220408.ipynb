{
 "cells": [
  {
   "cell_type": "markdown",
   "id": "bf2da7b9-5d20-4faf-ae73-ca28d1a7b86c",
   "metadata": {},
   "source": [
    "# Riddler Classic 2022-04-08\n",
    "\n",
    "https://fivethirtyeight.com/features/can-you-be-mediocre-enough-to-win/\n",
    "\n",
    "*This week’s Classic also comes from Ben Orlin, although it’s relatively mediocre compared to the Express.*\n",
    "\n",
    "*In the three-player Game of Mediocrity, you win by not winning too much.*\n",
    "\n",
    "*Each round, every player secretly picks a number from 0 to 10. The numbers are simultaneously revealed, and the median number wins that number of points. (If two or more players pick the same number, then the winner is randomly selected from among them.)*\n",
    "\n",
    "*Player A says 6, B says 3, and C says 2. B is the winner, having said the median, and earns 3 points.\n",
    "After five rounds, the winner is whoever has the median number of points. (Again, if two or more players have the same score, then the winner is randomly selected from among them.)*\n",
    "\n",
    "*With one round remaining, players A, B and C have 6, 8 and 10 points, respectively. Player A sighs and writes down “3,” but fails to do so in secret. Players B and C both see player A’s number (and both see that the other saw A’s number), and will take care to write their own numbers in secret. Assuming everyone plays to win, what numbers should B and C choose?*"
   ]
  },
  {
   "cell_type": "markdown",
   "id": "9fb6b509-4881-4b5a-9c61-affeee02cb8c",
   "metadata": {},
   "source": [
    "Obviously, player A has determined that winning is impossible. Thus, player A only serves to hurt player B's chances of winning.\n",
    "\n",
    "Let's start by calculating conditional probabilities of winning for all of each of the two relevant player's choices."
   ]
  },
  {
   "cell_type": "code",
   "execution_count": 1,
   "id": "2e592b12-0bea-44ad-a022-9fafeb7024da",
   "metadata": {},
   "outputs": [],
   "source": [
    "import statistics\n",
    "import pandas as pd"
   ]
  },
  {
   "cell_type": "code",
   "execution_count": 2,
   "id": "b21f4493-be0e-48fc-85b5-f5fc09e3dd91",
   "metadata": {},
   "outputs": [
    {
     "name": "stdout",
     "output_type": "stream",
     "text": [
      "P(B wins | B picks 0) = 0.0\n",
      "P(B wins | B picks 1) = 0.0\n",
      "P(B wins | B picks 2) = 0.11\n",
      "P(B wins | B picks 3) = 0.48\n",
      "P(B wins | B picks 4) = 0.59\n",
      "P(B wins | B picks 5) = 0.5\n",
      "P(B wins | B picks 6) = 0.41\n",
      "P(B wins | B picks 7) = 0.32\n",
      "P(B wins | B picks 8) = 0.23\n",
      "P(B wins | B picks 9) = 0.14\n",
      "P(B wins | B picks 10) = 0.05\n"
     ]
    }
   ],
   "source": [
    "#Conditional probabilities for player B's options\n",
    "for b in range(0, 11):\n",
    "    success = 0\n",
    "    for c in range(0, 11):\n",
    "        median = statistics.median([3, b, c])\n",
    "        if b == median and b >= 2: \n",
    "            success += (0.5 if b == 2 else 1)/[3, b, c].count(median)\n",
    "    print(\"P(B wins | B picks \" + str(b) + \") =\",  str(round(success/11, 2)))"
   ]
  },
  {
   "cell_type": "code",
   "execution_count": 3,
   "id": "183a5788-0675-46ff-b4d7-e0ce22411871",
   "metadata": {},
   "outputs": [
    {
     "name": "stdout",
     "output_type": "stream",
     "text": [
      "P(C wins | C picks 0) = 0.91\n",
      "P(C wins | C picks 1) = 0.91\n",
      "P(C wins | C picks 2) = 0.93\n",
      "P(C wins | C picks 3) = 0.97\n",
      "P(C wins | C picks 4) = 0.91\n",
      "P(C wins | C picks 5) = 0.82\n",
      "P(C wins | C picks 6) = 0.73\n",
      "P(C wins | C picks 7) = 0.64\n",
      "P(C wins | C picks 8) = 0.55\n",
      "P(C wins | C picks 9) = 0.45\n",
      "P(C wins | C picks 10) = 0.36\n"
     ]
    }
   ],
   "source": [
    "#Conditional probabilities for player C's options\n",
    "for c in range(0, 11):\n",
    "    success = 0\n",
    "    for b in range(0, 11):\n",
    "        median = statistics.median([3, b, c])\n",
    "        if b == median and b >= 2: \n",
    "            success += (0.5 if b == 2 else 1)/[3, b, c].count(median)\n",
    "    print(\"P(C wins | C picks \" + str(c) + \") =\",  str(round(1 - (success/11), 2)))\n"
   ]
  },
  {
   "cell_type": "markdown",
   "id": "2cbb3202-53a3-42b4-855e-1ddf795c1537",
   "metadata": {},
   "source": [
    "If players B and C knew that the other player hadn't seen player A's final number, they would pick 4 and 3, respectively, to optimize their chances of winning. Instead, this becomes a game theory problem, and we need to find the strict Nash equilibrium. With a lead of 2, Player C has the upper hand in this scenario, so the strict Nash equilibrium will be the outcome which gives player C the highest chance of winning assuming player B acts rationally. "
   ]
  },
  {
   "cell_type": "markdown",
   "id": "748e41bd-7a9c-41ca-b4ee-0754149ef4d4",
   "metadata": {},
   "source": [
    "What exactly would rational behavior look like for player B? Well, for starters, player B needs to pick a number ≥ 2 to even have a chance of winning. For each number played by player C, player B will play the number which yields the highest chance of winning. Let's calculate those numbers and probabilities."
   ]
  },
  {
   "cell_type": "code",
   "execution_count": 4,
   "id": "665b68d3-7682-4264-9bf6-1800069d661c",
   "metadata": {},
   "outputs": [
    {
     "name": "stdout",
     "output_type": "stream",
     "text": [
      " Player C's Pick  Player B's Optimal Pick  P(B Wins | B Picks Optimally)\n",
      "               0                        3                           0.50\n",
      "               1                        3                           0.50\n",
      "               2                        3                           0.50\n",
      "               3                        3                           0.33\n",
      "               4                        4                           0.50\n",
      "               5                        4                           1.00\n",
      "               6                        5                           1.00\n",
      "               7                        6                           1.00\n",
      "               8                        7                           1.00\n",
      "               9                        8                           1.00\n",
      "              10                        9                           1.00\n"
     ]
    }
   ],
   "source": [
    "df = pd.DataFrame()\n",
    "for c in range(0, 11):\n",
    "    E_max = (0, 0)\n",
    "    for b in range(2, 11):\n",
    "        median = statistics.median([3, b, c])\n",
    "        if b == median:\n",
    "            E = 1 / [3, b, c].count(median) / (2 if b == 2 else 1) \n",
    "            if E >= E_max[1]:\n",
    "                E_max = (b, E)\n",
    "    df = df.append(pd.DataFrame({\"Player C's Pick\": [c], \"Player B's Optimal Pick\": [E_max[0]], \"P(B Wins | B Picks Optimally)\": [round(E_max[1], 2)]}))\n",
    "\n",
    "print(df.to_string(index = False))"
   ]
  },
  {
   "cell_type": "markdown",
   "id": "238ec1e5-95e9-45ef-ad6e-9e93edc0af3b",
   "metadata": {},
   "source": [
    "Again, the strict Nash equilibrium in this scenario is the outcome which gives player C the highest chance of winning assuming player B acts rationally. As shown above, this equilibrium is achieved by all players picking 3. When player C picks 3, the median is set in stone at 3, and the only way player B can win the round (and the game) is by also picking 3 and hoping the random draw goes well. Player B will have a $\\frac{1}{3}$ chance of winning, and player C will have a $\\frac{2}{3}$ chance. "
   ]
  }
 ],
 "metadata": {
  "kernelspec": {
   "display_name": "Python 3 (ipykernel)",
   "language": "python",
   "name": "python3"
  },
  "language_info": {
   "codemirror_mode": {
    "name": "ipython",
    "version": 3
   },
   "file_extension": ".py",
   "mimetype": "text/x-python",
   "name": "python",
   "nbconvert_exporter": "python",
   "pygments_lexer": "ipython3",
   "version": "3.9.6"
  }
 },
 "nbformat": 4,
 "nbformat_minor": 5
}
