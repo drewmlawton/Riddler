{
 "cells": [
  {
   "cell_type": "markdown",
   "id": "0efc21c3-03a0-4a5f-93e6-b5c3b9d8cf74",
   "metadata": {},
   "source": [
    "# Riddler Classic 2022-04-15\n",
    "\n",
    "https://fivethirtyeight.com/features/can-you-add-a-vowel-to-lose-a-syllable/\n",
    "\n",
    "*This week’s Classic comes from Daniel Larsen of Bloomington, Indiana. For his research project, Daniel studied Carmichael numbers. More specifically, he proved that for a sufficiently large number N, there is guaranteed to be at least one Carmichael number between N and 2N (resembling Bertand’s postulate for prime numbers).*\n",
    "\n",
    "*As it turns out, there’s more than one way to define Carmichael numbers. For this riddle, we’ll define N as being a Carmichael number if (1) it has no square factors, and (2) if one less than every prime factor of N is a factor of N−1.*\n",
    "\n",
    "*That’s a lot to take in at once, so let’s look at an example. The smallest Carmichael number is 561. Sure enough, it has no square factors (other than 1, which we’re not counting here). Meanwhile, its prime factors are 3, 11 and 17. If we subtract one from each of those, we get 2, 10 and 16, all of which divide 560 (one less than the original number).*\n",
    "\n",
    "*Daniel’s puzzle asks you to find a six-digit Carmichael number that can be written as ABCABC in base 10. (Note: The digits A, B and C are not necessarily distinct.)*"
   ]
  },
  {
   "cell_type": "markdown",
   "id": "8384bc14-27d2-471e-99bb-9e61623b8cc4",
   "metadata": {},
   "source": [
    "Let's start with a function that returns a set of all factors of an integer."
   ]
  },
  {
   "cell_type": "code",
   "execution_count": 1,
   "id": "54f41a03-8bcb-41cf-a584-675942b435d2",
   "metadata": {},
   "outputs": [],
   "source": [
    "from sympy import primefactors\n",
    "from functools import reduce\n",
    "from math import sqrt"
   ]
  },
  {
   "cell_type": "code",
   "execution_count": 2,
   "id": "0f4e6fd3-7936-42fd-a824-09255a4f6e67",
   "metadata": {},
   "outputs": [],
   "source": [
    "def factors(n):\n",
    "        step = 2 if n % 2 else 1\n",
    "        return set(reduce(list.__add__, ([i, n//i] for i in range(1, int(sqrt(n))+1, step) if n % i == 0)))"
   ]
  },
  {
   "cell_type": "markdown",
   "id": "bb3c3dd8-5645-4b8d-82f3-bc7010d7bfbc",
   "metadata": {},
   "source": [
    "Now, let's find all the 6-digit Carmichael numbers."
   ]
  },
  {
   "cell_type": "code",
   "execution_count": 3,
   "id": "4e24d3a2-ac2f-4db8-8342-64bf9962f46a",
   "metadata": {},
   "outputs": [],
   "source": [
    "carmichael = []\n",
    "\n",
    "for i in range(100000, 1000000):\n",
    "    is_carmichael = True\n",
    "    for f in (factors(i) - set([1])):\n",
    "        if (f ** 0.5).is_integer():\n",
    "            is_carmichael = False\n",
    "            break\n",
    "    for f in primefactors(i):\n",
    "        if ((i-1) % (f-1) != 0):\n",
    "            is_carmichael = False\n",
    "            break\n",
    "    if is_carmichael:\n",
    "        carmichael.append(i)"
   ]
  },
  {
   "cell_type": "markdown",
   "id": "ebf9578b-f9bf-4d9a-98b3-bbbc9d7013cb",
   "metadata": {},
   "source": [
    "Finally, let's find all the numbers that are in the form ABCABC."
   ]
  },
  {
   "cell_type": "code",
   "execution_count": 4,
   "id": "599683f8-7e14-43bd-9ddb-fef5d64ab827",
   "metadata": {},
   "outputs": [
    {
     "name": "stdout",
     "output_type": "stream",
     "text": [
      "[101101]\n"
     ]
    }
   ],
   "source": [
    "carmichael = [c for c in carmichael if str(c)[:3] == str(c)[3:]]\n",
    "\n",
    "print(carmichael)"
   ]
  },
  {
   "cell_type": "markdown",
   "id": "bf8d7fe3-4e0b-4748-9197-77e6bc94b369",
   "metadata": {},
   "source": [
    "Good, there's only one such number. That means 101101 is our answer."
   ]
  }
 ],
 "metadata": {
  "kernelspec": {
   "display_name": "Python 3 (ipykernel)",
   "language": "python",
   "name": "python3"
  },
  "language_info": {
   "codemirror_mode": {
    "name": "ipython",
    "version": 3
   },
   "file_extension": ".py",
   "mimetype": "text/x-python",
   "name": "python",
   "nbconvert_exporter": "python",
   "pygments_lexer": "ipython3",
   "version": "3.9.6"
  }
 },
 "nbformat": 4,
 "nbformat_minor": 5
}
