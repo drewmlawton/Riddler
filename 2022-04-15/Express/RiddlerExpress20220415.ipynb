{
 "cells": [
  {
   "cell_type": "markdown",
   "id": "53e0aabc-4ed1-45d8-ab95-ff14b7d65189",
   "metadata": {},
   "source": [
    "# Riddler Express 2022-04-15\n",
    "\n",
    "https://fivethirtyeight.com/features/can-you-add-a-vowel-to-lose-a-syllable/\n",
    "\n",
    "*Luke Robitaille is from Euless, Texas. As part of his research project, he proved that most simple braids — topological structures composed on intertwining strands — are orderly for low numbers of strands. But as the number of strands increases, nearly all simple braids become chaotic. Luke also represented the United States three times in the International Math Olympiad, taking home three gold medals.*\n",
    "\n",
    "*Now, I can’t recall ever running a straight-up word puzzle in my days as the editor of The Riddler. But Luke’s puzzle was too good to pass up, so here goes:*\n",
    "\n",
    "*Find a word in the English language to which you can add a vowel, resulting in another word that has fewer syllables.*\n",
    "\n",
    "*By “add a vowel,” I mean insert one additional letter — a vowel — somewhere in the word (or at the beginning or end), while keeping the ordering of all the other letters the same. For example, you could add a vowel to the word “TASTY” to get the word “TOASTY.” However, both words are two syllables, meaning this is not the solution.*"
   ]
  },
  {
   "cell_type": "markdown",
   "id": "f8aa1851-1900-4d67-806e-dfaa62bc927e",
   "metadata": {},
   "source": [
    "Let's start by generating a list of all words in the English language."
   ]
  },
  {
   "cell_type": "code",
   "execution_count": 1,
   "id": "18fedf94-343a-4f59-8856-6fd899b0b97d",
   "metadata": {},
   "outputs": [],
   "source": [
    "words = []\n",
    "with open(\"words.txt\") as file:\n",
    "    for line in file:\n",
    "        words.append(line[:-1])"
   ]
  },
  {
   "cell_type": "markdown",
   "id": "3d410cd4-7002-4870-a5e9-2fa9494bcfac",
   "metadata": {},
   "source": [
    "Great! We'll also need a way to count syllables. The CMU Pronouncing Dictionary (CMUdict) is a great resource for this. CMUdict is very long and contains many variants of words, which is the reason we didn't use it above."
   ]
  },
  {
   "cell_type": "code",
   "execution_count": 2,
   "id": "9fa606fa-2506-43bf-9bf6-1869f4390fc7",
   "metadata": {},
   "outputs": [],
   "source": [
    "syllables = {}\n",
    "\n",
    "with open(\"cmudict.txt\") as file:\n",
    "    i = 0\n",
    "    for entry in file.readlines():\n",
    "        try:\n",
    "            idx = entry.index(\" \")\n",
    "            word = entry[:idx]\n",
    "            if word in words:\n",
    "                syllables[word] = entry[idx + 1:]\n",
    "        except:\n",
    "            pass"
   ]
  },
  {
   "cell_type": "markdown",
   "id": "0f57dfe3-4519-44e0-b1e7-b094cefd4f97",
   "metadata": {},
   "source": [
    "And we'll also need to count these syllables at some point."
   ]
  },
  {
   "cell_type": "code",
   "execution_count": 3,
   "id": "e18e672b-c2cd-496f-8a57-d45afbd82202",
   "metadata": {},
   "outputs": [],
   "source": [
    "def count_syllables(s):\n",
    "    return sum(map(s.count, [\"AA\", \"AE\", \"AH\", \"AO\", \"AW\", \"AY\", \"EH\", \"ER\", \"EY\", \"IH\", \"IY\", \"OW\", \"OY\", \"UH\", \"UW\"]))"
   ]
  },
  {
   "cell_type": "markdown",
   "id": "f1d372b0-fe1f-4c2f-9f83-63ebbfa0d5f6",
   "metadata": {},
   "source": [
    "Now we can search for any words that lose syllables when adding vowels."
   ]
  },
  {
   "cell_type": "code",
   "execution_count": 4,
   "id": "7b2a93d7-4398-4526-bfd3-24d3757dc04d",
   "metadata": {},
   "outputs": [
    {
     "name": "stdout",
     "output_type": "stream",
     "text": [
      "beatify → beautify\n",
      "cation → caution\n",
      "cit → cite\n",
      "cit → city\n",
      "our → your\n",
      "ourselves → yourselves\n",
      "w → ow\n",
      "w → we\n"
     ]
    }
   ],
   "source": [
    "while len(words) > 0:\n",
    "    word1 = words[0]\n",
    "    for i in range(1, len(words)):\n",
    "        word2 = words[i]\n",
    "        if abs(len(word1) - len(word2)) == 1:\n",
    "            srtd = sorted([word1, word2], key = lambda x: len(x))\n",
    "            short = srtd[0]\n",
    "            long = srtd[1]\n",
    "            matching = 2\n",
    "            i = 0\n",
    "            j = 0\n",
    "            while i < len(short):\n",
    "                if short[i] != long[j]:\n",
    "                    if matching == 1:\n",
    "                        matching = 0\n",
    "                        break\n",
    "                    else:\n",
    "                        if long[j] not in \"aeiouy\":\n",
    "                            matching = 0\n",
    "                            break\n",
    "                        matching = 1\n",
    "                        i -= 1                    \n",
    "                i += 1\n",
    "                j += 1\n",
    "            if matching == 1 or (matching == 2 and long[-1] in \"aeiouy\"):\n",
    "                try:\n",
    "                    if count_syllables(syllables[long]) < count_syllables(syllables[short]):\n",
    "                        print(short, \"→\", long)\n",
    "                except:\n",
    "                    pass\n",
    "    words = words[1:]"
   ]
  },
  {
   "cell_type": "markdown",
   "id": "30100c43-8582-4786-a7b5-37c3552b31fd",
   "metadata": {},
   "source": [
    "Some of these are abbreviations or add \"y\" as consonant. Two sets of words (beatify → beautify and cation → caution) meet the requirements, however."
   ]
  }
 ],
 "metadata": {
  "kernelspec": {
   "display_name": "Python 3 (ipykernel)",
   "language": "python",
   "name": "python3"
  },
  "language_info": {
   "codemirror_mode": {
    "name": "ipython",
    "version": 3
   },
   "file_extension": ".py",
   "mimetype": "text/x-python",
   "name": "python",
   "nbconvert_exporter": "python",
   "pygments_lexer": "ipython3",
   "version": "3.9.6"
  }
 },
 "nbformat": 4,
 "nbformat_minor": 5
}
